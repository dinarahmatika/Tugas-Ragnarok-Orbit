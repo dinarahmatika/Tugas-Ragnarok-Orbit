{
 "cells": [
  {
   "cell_type": "markdown",
   "id": "1dc7f8ce",
   "metadata": {},
   "source": [
    " # TUGAS PAGI                                                                       \n",
    " \n",
    " #### DINA RAHMATIKA"
   ]
  },
  {
   "cell_type": "markdown",
   "id": "1e72b2ea",
   "metadata": {},
   "source": [
    "### Nomor 1\n",
    "\n",
    "a = False\n",
    "\n",
    "b = True\n",
    "\n",
    "c = False\n",
    "\n",
    "    1. (b and c)\n",
    "    2. b or c\n",
    "    3. not a and b\n",
    "    4. (a and b) or not c\n",
    "    5. not b and not (a or c) \n"
   ]
  },
  {
   "cell_type": "code",
   "execution_count": 85,
   "id": "cfbf490e",
   "metadata": {},
   "outputs": [],
   "source": [
    "# 1. False\n",
    "# 2. True\n",
    "# 3. True\n",
    "# 4. True\n",
    "# 5. False"
   ]
  },
  {
   "cell_type": "markdown",
   "id": "dcaa0a9e",
   "metadata": {},
   "source": [
    "### Nomor 2\n",
    "\n",
    "mengatasi kode program yang masih terdapat error (bug)"
   ]
  },
  {
   "cell_type": "code",
   "execution_count": 15,
   "id": "f3297250",
   "metadata": {},
   "outputs": [
    {
     "name": "stdout",
     "output_type": "stream",
     "text": [
      "Hello!\n",
      "Enter something:Dina\n",
      "You entered: Dina\n"
     ]
    }
   ],
   "source": [
    "print('Hello!')\n",
    "something = input('Enter something:')\n",
    "print('You entered:', something)"
   ]
  },
  {
   "cell_type": "markdown",
   "id": "464f0618",
   "metadata": {},
   "source": [
    "### Nomor 3\n",
    "\n",
    "mengatasi kode program yang masih terdapat error (bug)\n"
   ]
  },
  {
   "cell_type": "code",
   "execution_count": 21,
   "id": "9be1ac72",
   "metadata": {},
   "outputs": [
    {
     "name": "stdout",
     "output_type": "stream",
     "text": [
      "Hello!\n",
      "enter something:hi\n",
      "Hi there!\n"
     ]
    }
   ],
   "source": [
    "print ('Hello!')\n",
    "something = input('enter something:')\n",
    "if something == 'hello':\n",
    "    print('Hello for you too')\n",
    "elif something == 'hi':\n",
    "    print('Hi there!')\n",
    "else:\n",
    "    print(\"I dont know what\", something, \"means\")"
   ]
  },
  {
   "cell_type": "markdown",
   "id": "5a01df44",
   "metadata": {},
   "source": [
    "### Nomor 4\n",
    "\n",
    "Mencetak kata halo dan hai sebanyak 100 kali"
   ]
  },
  {
   "cell_type": "code",
   "execution_count": 38,
   "id": "dd5bd1b3",
   "metadata": {},
   "outputs": [
    {
     "name": "stdout",
     "output_type": "stream",
     "text": [
      "halo hai halo hai halo hai halo hai halo hai halo hai halo hai halo hai halo hai halo hai halo hai halo hai halo hai halo hai halo hai halo hai halo hai halo hai halo hai halo hai halo hai halo hai halo hai halo hai halo hai halo hai halo hai halo hai halo hai halo hai halo hai halo hai halo hai halo hai halo hai halo hai halo hai halo hai halo hai halo hai halo hai halo hai halo hai halo hai halo hai halo hai halo hai halo hai halo hai halo hai halo hai halo hai halo hai halo hai halo hai halo hai halo hai halo hai halo hai halo hai halo hai halo hai halo hai halo hai halo hai halo hai halo hai halo hai halo hai halo hai halo hai halo hai halo hai halo hai halo hai halo hai halo hai halo hai halo hai halo hai halo hai halo hai halo hai halo hai halo hai halo hai halo hai halo hai halo hai halo hai halo hai halo hai halo hai halo hai halo hai halo hai halo hai halo hai halo hai halo hai \n"
     ]
    }
   ],
   "source": [
    "s = 'halo hai '\n",
    "print(s*100)"
   ]
  },
  {
   "cell_type": "markdown",
   "id": "b52404d7",
   "metadata": {},
   "source": [
    "### Nomor 5\n",
    "\n",
    "Permainan batu-kertas-gunting\n",
    "\n",
    "        a. Membuat tabel kemenangan\n",
    "        b. Membuat program permainan"
   ]
  },
  {
   "cell_type": "code",
   "execution_count": 39,
   "id": "0737d21d",
   "metadata": {},
   "outputs": [],
   "source": [
    "# a. Table kemengan\n",
    "#     pemain 1         pemain 2            pemenang\n",
    "#     batu             gunting             pemain 1\n",
    "#     gunting          gunting             seri\n",
    "#     kertas           gunting             pemain 2\n",
    "#     batu             batu                seri\n",
    "#     gunting          batu                pemain 2\n",
    "#     kertas           batu                pemain 1\n",
    "#     batu             Kertas              pemain 2\n",
    "#     gunting          Kertas              pemain 1\n",
    "#     kertas           Kertas              seri"
   ]
  },
  {
   "cell_type": "code",
   "execution_count": 71,
   "id": "66b98f3a",
   "metadata": {},
   "outputs": [
    {
     "name": "stdout",
     "output_type": "stream",
     "text": [
      "Player 1 = gunting\n",
      "Player 2 = batu\n",
      "Player 2 Win!\n"
     ]
    }
   ],
   "source": [
    "# b. program\n",
    "\n",
    "x = input('Player 1 = ')\n",
    "y = input('Player 2 = ')\n",
    "if x == 'gunting' or 'batu' or 'kertas':\n",
    "    if y =='gunting' or 'batu' or 'kertas':\n",
    "        if x==y:\n",
    "            print('Tie!')\n",
    "        elif x=='gunting':\n",
    "            if y=='kertas':\n",
    "                print('Player 1 Win!')\n",
    "            else:\n",
    "                print('Player 2 Win!')\n",
    "        elif x=='kertas':\n",
    "            if y=='batu':\n",
    "                print('Player 1 Win!')\n",
    "            else:\n",
    "                print('Player 2 Win!')\n",
    "        elif x=='batu':\n",
    "            if y=='gunting':\n",
    "                print('Player 1 Win!')\n",
    "            else:\n",
    "                print('Player 2 Win!')\n",
    "        else:\n",
    "            print('Input Invalid')   "
   ]
  },
  {
   "cell_type": "markdown",
   "id": "01c140b0",
   "metadata": {},
   "source": [
    "### Nomor 6\n",
    "\n",
    "Program sederhana yang menerima input secara terus menerus"
   ]
  },
  {
   "cell_type": "code",
   "execution_count": 11,
   "id": "a3ecedf2",
   "metadata": {},
   "outputs": [
    {
     "name": "stdout",
     "output_type": "stream",
     "text": [
      "Masukkan apapun :Paris\n",
      "Masukkan lagi :Jerman\n",
      "Masukkan lagi :Belanda\n",
      "Masukkan lagi :Spanyol\n",
      "Masukkan lagi :Roma\n",
      "Masukkan lagi :berhenti\n",
      "Oke, udah ya\n"
     ]
    }
   ],
   "source": [
    "inputan=input('Masukkan apapun :')\n",
    "while (inputan != 'berhenti'):\n",
    "    inputan=input('Masukkan lagi :')\n",
    "\n",
    "print('Oke, udah ya')"
   ]
  },
  {
   "cell_type": "markdown",
   "id": "0a794ec7",
   "metadata": {},
   "source": [
    "### Nomor 7\n",
    "\n",
    "Program yang dapat menampilkan menu makanan atau tertentu"
   ]
  },
  {
   "cell_type": "code",
   "execution_count": 132,
   "id": "77aaf04d",
   "metadata": {},
   "outputs": [],
   "source": [
    "def menu():\n",
    "    print ('MENU JAJANAN PASAR')\n",
    "    print ('1. Donat     -   Rp 1250')\n",
    "    print ('2. Bakwan    -   Rp 1000')\n",
    "    print ('3. Onde-onde -   Rp 800')\n",
    "    print ('4. Lemper    -   Rp 1250')\n",
    "    \n",
    "    pesan=input('Masukkan nama anda = ')\n",
    "    while (pesan != 'cukup'):\n",
    "        pesan= input('Apa yang ingin anda pesan = ')\n",
    "        if pesan=='1':\n",
    "            print('Anda memesan Donat seharga Rp 1.250')\n",
    "        elif pesan=='2':\n",
    "            print('Anda memesan Bakwan seharga Rp 1.000')\n",
    "        elif pesan=='3':\n",
    "            print('Anda memesan Onde-onde seharga Rp 800')\n",
    "        elif pesan=='4':\n",
    "            print('Anda memesan Lemper seharga Rp 1.250')\n",
    "            \n",
    "    print ('Terimakasih telah berbelanja jajanan kami:)')"
   ]
  },
  {
   "cell_type": "code",
   "execution_count": 133,
   "id": "f2a30b1b",
   "metadata": {},
   "outputs": [
    {
     "name": "stdout",
     "output_type": "stream",
     "text": [
      "MENU JAJANAN PASAR\n",
      "1. Donat     -   Rp 1250\n",
      "2. Bakwan    -   Rp 1000\n",
      "3. Onde-onde -   Rp 800\n",
      "4. Lemper    -   Rp 1250\n",
      "Masukkan nama anda = dina\n",
      "Apa yang ingin anda pesan = 1\n",
      "Anda memesan Donat seharga Rp 1.250\n",
      "Apa yang ingin anda pesan = 3\n",
      "Anda memesan Onde-onde seharga Rp 800\n",
      "Apa yang ingin anda pesan = 4\n",
      "Anda memesan Lemper seharga Rp 1.250\n",
      "Apa yang ingin anda pesan = cukup\n",
      "Terimakasih telah berbelanja jajanan kami:)\n"
     ]
    }
   ],
   "source": [
    "menu()"
   ]
  },
  {
   "cell_type": "markdown",
   "id": "fa2d2bb6",
   "metadata": {},
   "source": [
    "### Nomor 8\n",
    "\n",
    "program pada nomor 7 menjadi sedikit lebih kompleks"
   ]
  },
  {
   "cell_type": "code",
   "execution_count": 150,
   "id": "77c495fe",
   "metadata": {},
   "outputs": [],
   "source": [
    "def menu():\n",
    "    print ('MENU JAJANAN PASAR')\n",
    "    print ('1. Donat     -   Rp 1250')\n",
    "    print ('2. Bakwan    -   Rp 1000')\n",
    "    print ('3. Onde-onde -   Rp 800')\n",
    "    print ('4. Lemper    -   Rp 1250')\n",
    "    \n",
    "    pesan=input('Masukkan nama anda = ')\n",
    "    while (pesan != 'cukup'):\n",
    "        pesan= input('Apa yang ingin anda pesan = ')\n",
    "        jumlah= int(input('Berapa Jumlah yang ingin dibeli? '))\n",
    "        if pesan=='1':\n",
    "            print('Anda memesan Donat sebanyak', jumlah,'buah.','Total harga pesanan anda Rp', jumlah*1250)\n",
    "        elif pesan=='2':\n",
    "            print('Anda memesan Bakwan sebanyak', jumlah,'buah.','Total harga pesanan anda Rp', jumlah*1000)\n",
    "        elif pesan=='3':\n",
    "            print('Anda memesan Onde-onde sebanyak', jumlah,'buah.','Total harga pesanan anda Rp', jumlah*800)\n",
    "        elif pesan=='4':\n",
    "            print('Anda memesan Lemper sebanyak', jumlah,'buah.','Total harga pesanan anda Rp', jumlah*1250)\n",
    "    print ('Terimakasih telah berbelanja jajanan kami:)')"
   ]
  },
  {
   "cell_type": "code",
   "execution_count": 147,
   "id": "02df19a1",
   "metadata": {},
   "outputs": [
    {
     "name": "stdout",
     "output_type": "stream",
     "text": [
      "MENU JAJANAN PASAR\n",
      "1. Donat     -   Rp 1250\n",
      "2. Bakwan    -   Rp 1000\n",
      "3. Onde-onde -   Rp 800\n",
      "4. Lemper    -   Rp 1250\n",
      "Masukkan nama anda = Sista\n",
      "Apa yang ingin anda pesan = 1\n",
      "Berapa Jumlah yang ingin dibeli? 2\n",
      "Anda memesan Donat sebanyak 2 buah. Total harga pesanan anda Rp 2500\n",
      "Apa yang ingin anda pesan = 2\n",
      "Berapa Jumlah yang ingin dibeli? 5\n",
      "Anda memesan Bakwan sebanyak 5 buah. Total harga pesanan anda Rp 5000\n",
      "Apa yang ingin anda pesan = 3\n",
      "Berapa Jumlah yang ingin dibeli? 10\n",
      "Anda memesan Onde-onde sebanyak 10 buah. Total harga pesanan anda Rp 8000\n",
      "Apa yang ingin anda pesan = 4\n",
      "Berapa Jumlah yang ingin dibeli? 1\n",
      "Anda memesan Lemper sebanyak 1 buah. Total harga pesanan anda Rp 1250\n",
      "Apa yang ingin anda pesan = cukup\n",
      "Berapa Jumlah yang ingin dibeli? 0\n",
      "Terimakasih telah berbelanja jajanan kami:)\n"
     ]
    }
   ],
   "source": [
    "menu()"
   ]
  },
  {
   "cell_type": "markdown",
   "id": "bf06fa96",
   "metadata": {},
   "source": [
    "# TUGAS SORE"
   ]
  },
  {
   "cell_type": "markdown",
   "id": "d9671c45",
   "metadata": {},
   "source": [
    "### Nomor 1\n",
    "\n",
    "Write a method is divisible that takes two integers, m and n."
   ]
  },
  {
   "cell_type": "code",
   "execution_count": 105,
   "id": "0f0ad791",
   "metadata": {},
   "outputs": [],
   "source": [
    "def divisible(m,n):\n",
    "    if m%n ==0:\n",
    "        return True\n",
    "    else:\n",
    "        return False"
   ]
  },
  {
   "cell_type": "code",
   "execution_count": 113,
   "id": "7c387d2a",
   "metadata": {},
   "outputs": [
    {
     "data": {
      "text/plain": [
       "True"
      ]
     },
     "execution_count": 113,
     "metadata": {},
     "output_type": "execute_result"
    }
   ],
   "source": [
    "divisible(99,3)"
   ]
  },
  {
   "cell_type": "markdown",
   "id": "bd34f368",
   "metadata": {},
   "source": [
    "### Nomor 2\n",
    "\n",
    "Write a function that first displays a simple caf´e menu"
   ]
  },
  {
   "cell_type": "code",
   "execution_count": 74,
   "id": "eb13afff",
   "metadata": {},
   "outputs": [],
   "source": [
    "def cafe():\n",
    "    print ('What we have:')\n",
    "    print ('1. Lemon Cake')\n",
    "    print ('2. Strawberry and Cream Cheesecake')\n",
    "    print ('3. Cocholate Pie')\n",
    "    n=int(input('Which number would you like to order? '))\n",
    "    if n== 1:\n",
    "        print ('One Lemon cake coming right up!')\n",
    "    elif n==2:\n",
    "         print ('One Strawberri and Cream Cheesecake coming right up!')\n",
    "    elif n==3:\n",
    "         print ('One Cocholate Pie coming right up!')\n",
    "    else:\n",
    "        print('Sorry, that is not a valid choice.')"
   ]
  },
  {
   "cell_type": "code",
   "execution_count": 75,
   "id": "07ad831c",
   "metadata": {},
   "outputs": [
    {
     "name": "stdout",
     "output_type": "stream",
     "text": [
      "What we have:\n",
      "1. Lemon Cake\n",
      "2. Strawberry and Cream Cheesecake\n",
      "3. Cocholate Pie\n",
      "Which number would you like to order? 3\n",
      "One Cocholate Pie coming right up!\n"
     ]
    }
   ],
   "source": [
    "cafe()"
   ]
  },
  {
   "cell_type": "markdown",
   "id": "64db67d5",
   "metadata": {},
   "source": [
    "### Nomor 3\n",
    "\n",
    "Write a method rand_divis_3 that takes no parameters "
   ]
  },
  {
   "cell_type": "code",
   "execution_count": 112,
   "id": "a125f344",
   "metadata": {},
   "outputs": [],
   "source": [
    "def rand_divis_3():\n",
    "    s=int(input('Enter the number you choose: '))\n",
    "    if s%3 ==0:\n",
    "        return True\n",
    "    else:\n",
    "        return False\n"
   ]
  },
  {
   "cell_type": "code",
   "execution_count": 103,
   "id": "ef8436c7",
   "metadata": {},
   "outputs": [
    {
     "name": "stdout",
     "output_type": "stream",
     "text": [
      "Enter the number you choose: 81\n"
     ]
    },
    {
     "data": {
      "text/plain": [
       "True"
      ]
     },
     "execution_count": 103,
     "metadata": {},
     "output_type": "execute_result"
    }
   ],
   "source": [
    "rand_divis_3()"
   ]
  },
  {
   "cell_type": "markdown",
   "id": "a82be43a",
   "metadata": {},
   "source": [
    "### Nomor 4\n",
    "\n",
    "Write a method not equal that takes two parameters and gives the same result as the != operator"
   ]
  },
  {
   "cell_type": "code",
   "execution_count": 65,
   "id": "fb53eae4",
   "metadata": {},
   "outputs": [],
   "source": [
    "def unequal(m,n):\n",
    "    if m==n:\n",
    "        print (False)\n",
    "    else:\n",
    "        print (True)"
   ]
  },
  {
   "cell_type": "code",
   "execution_count": 66,
   "id": "754df8fb",
   "metadata": {},
   "outputs": [
    {
     "name": "stdout",
     "output_type": "stream",
     "text": [
      "True\n"
     ]
    }
   ],
   "source": [
    "unequal(4,9)"
   ]
  },
  {
   "cell_type": "markdown",
   "id": "fd96aa60",
   "metadata": {},
   "source": [
    "### Nomor 5\n",
    "\n",
    "fix the error in the code"
   ]
  },
  {
   "cell_type": "code",
   "execution_count": 110,
   "id": "976f6634",
   "metadata": {},
   "outputs": [
    {
     "name": "stdout",
     "output_type": "stream",
     "text": [
      "Enter your name: Rebecca\n",
      "Your name is Rebecca\n"
     ]
    }
   ],
   "source": [
    "def ask_name():\n",
    "    name = input(\"Enter your name: \")\n",
    "    print(\"Your name is\", name)\n",
    "\n",
    "ask_name()"
   ]
  },
  {
   "cell_type": "code",
   "execution_count": null,
   "id": "82d4d218",
   "metadata": {},
   "outputs": [],
   "source": []
  }
 ],
 "metadata": {
  "kernelspec": {
   "display_name": "Python 3 (ipykernel)",
   "language": "python",
   "name": "python3"
  },
  "language_info": {
   "codemirror_mode": {
    "name": "ipython",
    "version": 3
   },
   "file_extension": ".py",
   "mimetype": "text/x-python",
   "name": "python",
   "nbconvert_exporter": "python",
   "pygments_lexer": "ipython3",
   "version": "3.9.7"
  }
 },
 "nbformat": 4,
 "nbformat_minor": 5
}
