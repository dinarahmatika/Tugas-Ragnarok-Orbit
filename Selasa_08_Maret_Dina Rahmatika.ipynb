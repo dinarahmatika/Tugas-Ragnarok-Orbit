{
 "cells": [
  {
   "cell_type": "markdown",
   "metadata": {
    "id": "F9RmP8oJEr-8"
   },
   "source": [
    "# Operasi Matematika & Numpy"
   ]
  },
  {
   "cell_type": "code",
   "execution_count": 2,
   "metadata": {
    "id": "DBVuNosPErdc"
   },
   "outputs": [],
   "source": [
    "import numpy as np"
   ]
  },
  {
   "cell_type": "markdown",
   "metadata": {
    "id": "7LxTP-IdLaSa"
   },
   "source": [
    "### Latihan-2 (2D array)"
   ]
  },
  {
   "cell_type": "code",
   "execution_count": 37,
   "metadata": {
    "colab": {
     "base_uri": "https://localhost:8080/"
    },
    "id": "myrQM61bHn2t",
    "outputId": "43140211-9609-4ede-b1b3-482e4a20d9c5"
   },
   "outputs": [
    {
     "name": "stdout",
     "output_type": "stream",
     "text": [
      "[[1 2 3]\n",
      " [4 5 6]\n",
      " [7 8 9]]\n"
     ]
    }
   ],
   "source": [
    "#2D Array (Matriks)\n",
    "A = np.array([[1, 2, 3], [4, 5, 6], [7, 8, 9]])\n",
    "print(A)"
   ]
  },
  {
   "cell_type": "code",
   "execution_count": 38,
   "metadata": {
    "colab": {
     "base_uri": "https://localhost:8080/"
    },
    "id": "2ncKwccePLyf",
    "outputId": "c73e8465-ef8a-4f47-bef0-d40dd70dd6c0"
   },
   "outputs": [
    {
     "name": "stdout",
     "output_type": "stream",
     "text": [
      "banyaknya entry =  9\n",
      "dimensi array =  2\n",
      "ukuran array =  (3, 3)\n"
     ]
    }
   ],
   "source": [
    "#Lengkapi kodingan berikut\n",
    "print('banyaknya entry = ', A.size)\n",
    "print('dimensi array = ', A.ndim )\n",
    "print('ukuran array = ', A.shape )"
   ]
  },
  {
   "cell_type": "markdown",
   "metadata": {
    "id": "dabJyOB3L6Kb"
   },
   "source": [
    "### Latihan-3 (Slicing)"
   ]
  },
  {
   "cell_type": "code",
   "execution_count": 50,
   "metadata": {
    "colab": {
     "base_uri": "https://localhost:8080/"
    },
    "id": "myrQM61bHn2t",
    "outputId": "43140211-9609-4ede-b1b3-482e4a20d9c5"
   },
   "outputs": [
    {
     "name": "stdout",
     "output_type": "stream",
     "text": [
      "[[1 2 3]\n",
      " [4 5 6]\n",
      " [7 8 9]]\n"
     ]
    }
   ],
   "source": [
    "#2D Array (Matriks)\n",
    "A = np.array([[1, 2, 3], [4, 5, 6], [7, 8, 9]])\n",
    "print(A)"
   ]
  },
  {
   "cell_type": "code",
   "execution_count": 56,
   "metadata": {
    "colab": {
     "base_uri": "https://localhost:8080/"
    },
    "id": "zm20sFkSNbds",
    "outputId": "7470e934-7d89-4f6a-bb44-ab9b8989c21b"
   },
   "outputs": [
    {
     "name": "stdout",
     "output_type": "stream",
     "text": [
      "baris ke-3 =  [7 8 9]\n",
      "entry ke-1 & 2 baris ke-3 =  [7 8]\n",
      "entry ke-2 & 3 kolom ke-3 =  [6 9]\n"
     ]
    }
   ],
   "source": [
    "#Lengkapi kodingan berikut\n",
    "print('baris ke-3 = ', A[2])\n",
    "print('entry ke-1 & 2 baris ke-3 = ', A[2,:2]  )\n",
    "print('entry ke-2 & 3 kolom ke-3 = ',A[1:,2] )"
   ]
  },
  {
   "cell_type": "markdown",
   "metadata": {
    "id": "u69Wt0HHOdDh"
   },
   "source": [
    "output jawaban:\n",
    "baris ke-3 =  [7 8 9]\n",
    "\n",
    "entry ke-1 & 2 baris ke-3 =  [7 8]\n",
    "\n",
    "entry ke-2 & 3 kolom ke-3 =  [6 9]"
   ]
  },
  {
   "cell_type": "markdown",
   "metadata": {
    "id": "kjS8YZLAMXB_"
   },
   "source": [
    "### Latihan-4 (Operasi matriks)"
   ]
  },
  {
   "cell_type": "code",
   "execution_count": 42,
   "metadata": {
    "id": "RIH4ROFmGuip"
   },
   "outputs": [
    {
     "name": "stdout",
     "output_type": "stream",
     "text": [
      "[[1 2]\n",
      " [7 8]] \n",
      "\n",
      "[[3 5]\n",
      " [1 6]]\n"
     ]
    }
   ],
   "source": [
    "A = np.array([[1, 2], [7,8]])\n",
    "B = np.array([[3, 5], [1,6]]) \n",
    "\n",
    "print(A , '\\n')\n",
    "print(B)"
   ]
  },
  {
   "cell_type": "markdown",
   "metadata": {
    "id": "dj6lY65jLBqx"
   },
   "source": [
    "Hitunglah:\n",
    "*   2*A\n",
    "*   2+A\n",
    "*   A+B\n",
    "*   A-B\n",
    "*   determinan A\n",
    "*   invers dari B, simpan jadi matriks D\n",
    "*   transpose D\n",
    "*   nilai eigen dan vektor eigen dari A dan B\n",
    "\n",
    "\n",
    "\n",
    "\n",
    "\n"
   ]
  },
  {
   "cell_type": "code",
   "execution_count": 43,
   "metadata": {
    "id": "zkywTKVELriJ"
   },
   "outputs": [
    {
     "name": "stdout",
     "output_type": "stream",
     "text": [
      "2xA =  \n",
      " [[ 2  4]\n",
      " [14 16]] \n",
      "\n",
      "2+A =  \n",
      " [[ 3  4]\n",
      " [ 9 10]] \n",
      "\n",
      "A+B =  \n",
      " [[ 4  7]\n",
      " [ 8 14]] \n",
      "\n",
      "A-B =  \n",
      " [[-2 -3]\n",
      " [ 6  2]] \n",
      "\n",
      "determinan matriks A =  -6.0 \n",
      "\n",
      "D (Inverse B) = \n",
      " [[ 0.46153846 -0.38461538]\n",
      " [-0.07692308  0.23076923]] \n",
      "\n",
      "Transpose D =  \n",
      " [[ 0.46153846 -0.07692308]\n",
      " [-0.38461538  0.23076923]] \n",
      "\n"
     ]
    }
   ],
   "source": [
    "#Ketik Kode disini\n",
    "\n",
    "print('2xA = ', '\\n', 2*A,'\\n')\n",
    "\n",
    "print('2+A = ', '\\n', 2+A,'\\n')\n",
    "\n",
    "print('A+B = ', '\\n', A+B,'\\n')\n",
    "\n",
    "print('A-B = ', '\\n', A-B,'\\n')\n",
    "\n",
    "print('determinan matriks A = ', np.linalg.det(A),'\\n')\n",
    "\n",
    "D=np.linalg.inv(B)\n",
    "print('D (Inverse B) =', '\\n', D,'\\n')\n",
    "\n",
    "print('Transpose D = ', '\\n', D.transpose(),'\\n')"
   ]
  },
  {
   "cell_type": "code",
   "execution_count": 44,
   "metadata": {},
   "outputs": [
    {
     "name": "stdout",
     "output_type": "stream",
     "text": [
      "nilai eigen matriks A =  [-0.62347538  9.62347538]\n",
      "vektor eigen matriks A =  \n",
      " [[-0.77640358 -0.22592838]\n",
      " [ 0.63023605 -0.97414391]] \n",
      " \n",
      "\n",
      "nilai eigen matriks B =  [1.8074176 7.1925824]\n",
      "vektor eigen matriks B =  \n",
      " [[-0.97271381 -0.76626443]\n",
      " [ 0.23200828 -0.64252535]] \n",
      " \n",
      "\n"
     ]
    }
   ],
   "source": [
    "# Nilai eigen dan vektor eigen dari A dan B\n",
    "\n",
    "print('nilai eigen matriks A = ', np.linalg.eig(A)[0])\n",
    "print('vektor eigen matriks A = ','\\n', np.linalg.eig(A)[1],'\\n','\\n')\n",
    "\n",
    "print('nilai eigen matriks B = ', np.linalg.eig(B)[0])\n",
    "print('vektor eigen matriks B = ','\\n', np.linalg.eig(B)[1],'\\n','\\n')"
   ]
  },
  {
   "cell_type": "markdown",
   "metadata": {
    "id": "7NwMsWC-MQgG"
   },
   "source": [
    "Apa perbedaan dari B*D (perkalian antar entry di B dan D) dan BD (perkalian matriks B dan D)? "
   ]
  },
  {
   "cell_type": "code",
   "execution_count": 49,
   "metadata": {
    "id": "0_PrzTpUMgQ8"
   },
   "outputs": [
    {
     "name": "stdout",
     "output_type": "stream",
     "text": [
      "BxD Perkalian antar entry = \n",
      " [[ 1.38461538 -1.92307692]\n",
      " [-0.07692308  1.38461538]] \n",
      "\n",
      "BxD Perkalian matriks = \n",
      " [[ 1.00000000e+00 -5.55111512e-17]\n",
      " [-5.55111512e-17  1.00000000e+00]] \n",
      "\n",
      "Perbedaannya yaitu, pada pekalian antar entry perkalian dilakukan antar sesama elemen pada baris dan kolom yang sama. Sedangkan pada perkalian matriks metode yang digunakan yaitu barisxkolom\n"
     ]
    }
   ],
   "source": [
    "#Tunjukkan bedanya di kodingan di bawah ini\n",
    "print('BxD Perkalian antar entry =','\\n',B*D,'\\n')\n",
    "print('BxD Perkalian matriks =','\\n',np.matmul(B,D),'\\n')\n",
    "print('Perbedaannya yaitu, pada pekalian antar entry perkalian dilakukan antar sesama elemen pada baris dan kolom yang sama. Sedangkan pada perkalian matriks metode yang digunakan yaitu barisxkolom')"
   ]
  }
 ],
 "metadata": {
  "colab": {
   "collapsed_sections": [],
   "name": "Selasa_Maths_AI_dengan_Python(pengenalan).ipynb",
   "provenance": []
  },
  "kernelspec": {
   "display_name": "Python 3 (ipykernel)",
   "language": "python",
   "name": "python3"
  },
  "language_info": {
   "codemirror_mode": {
    "name": "ipython",
    "version": 3
   },
   "file_extension": ".py",
   "mimetype": "text/x-python",
   "name": "python",
   "nbconvert_exporter": "python",
   "pygments_lexer": "ipython3",
   "version": "3.9.7"
  }
 },
 "nbformat": 4,
 "nbformat_minor": 1
}
