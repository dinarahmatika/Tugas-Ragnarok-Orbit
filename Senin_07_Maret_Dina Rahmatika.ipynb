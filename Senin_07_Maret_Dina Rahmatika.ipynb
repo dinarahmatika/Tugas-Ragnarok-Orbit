{
 "cells": [
  {
   "cell_type": "markdown",
   "id": "90152cd7",
   "metadata": {},
   "source": [
    "### Encapsulation"
   ]
  },
  {
   "cell_type": "code",
   "execution_count": 3,
   "id": "851c155c",
   "metadata": {},
   "outputs": [
    {
     "name": "stdout",
     "output_type": "stream",
     "text": [
      "milik: Dina, warna: putih, jenis: topi pantai\n",
      "pakai topi  Dina\n"
     ]
    }
   ],
   "source": [
    "class Topi(object):\n",
    "    \n",
    "    def __init__(self, input_milik, input_warna, input_jenis):\n",
    "        self.milik = input_milik\n",
    "        self.warna = input_warna\n",
    "        self.jenis = input_jenis\n",
    "\n",
    "    def panas(self):\n",
    "        print(\"pakai topi \", self.milik)\n",
    "\n",
    "    def info(self):\n",
    "        print(f\"milik: {self.milik}, warna: {self.warna}, jenis: {self.jenis}\")\n",
    "\n",
    "\n",
    "topi1 = Topi(\"Dina\", \"putih\", \"topi pantai\")\n",
    "\n",
    "topi1.info()\n",
    "topi1.panas()"
   ]
  },
  {
   "cell_type": "markdown",
   "id": "0cc64512",
   "metadata": {},
   "source": [
    "### Inheritance"
   ]
  },
  {
   "cell_type": "code",
   "execution_count": 7,
   "id": "cb124818",
   "metadata": {},
   "outputs": [
    {
     "name": "stdout",
     "output_type": "stream",
     "text": [
      "nama: Kacang Hijau, jenis: monokotil, akar: Serabut\n"
     ]
    }
   ],
   "source": [
    "class Tumbuhan(object):\n",
    "    def __init__(self, nama, jenis, akar):\n",
    "        self.nama = nama\n",
    "        self.jenis = jenis\n",
    "        self.akar = akar\n",
    "\n",
    "    def info(self):\n",
    "        print(f\"nama: {self.nama}, jenis: {self.jenis}, akar: {self.akar}\")\n",
    "\n",
    "tumbuhan1 = Tumbuhan(\"Kacang Hijau\", \"monokotil\", 'Serabut')\n",
    "\n",
    "tumbuhan1.info()"
   ]
  },
  {
   "cell_type": "code",
   "execution_count": 14,
   "id": "6ebddddd",
   "metadata": {},
   "outputs": [
    {
     "name": "stdout",
     "output_type": "stream",
     "text": [
      "nama: Kacang Hijau, jenis: monokotil, akar: Serabut\n",
      "warna: hijau, bentuk daun: menyirip\n"
     ]
    }
   ],
   "source": [
    "class Kacang(Tumbuhan):\n",
    "    def __init__(self,  nama, jenis, akar, warna, daun):\n",
    "        super().__init__(nama, jenis, akar)\n",
    "        self.warna = warna\n",
    "        self.daun = daun\n",
    "\n",
    "    def info_kacang(self):\n",
    "        super().info()\n",
    "        print(f\"warna: {self.warna}, bentuk daun: {self.daun}\")\n",
    "\n",
    "kacang1 = Kacang(\"Kacang Hijau\", \"monokotil\", 'Serabut', \"hijau\", \"menyirip\")\n",
    "\n",
    "kacang1.info_kacang()"
   ]
  },
  {
   "cell_type": "markdown",
   "id": "4b807841",
   "metadata": {},
   "source": [
    "### Abstraction"
   ]
  },
  {
   "cell_type": "code",
   "execution_count": 15,
   "id": "62a33eec",
   "metadata": {},
   "outputs": [],
   "source": [
    "from abc import abstractmethod, ABC"
   ]
  },
  {
   "cell_type": "code",
   "execution_count": 18,
   "id": "e160e773",
   "metadata": {},
   "outputs": [],
   "source": [
    "class Komik(ABC):\n",
    "    \n",
    "    @abstractmethod\n",
    "    def asal(self):\n",
    "        pass\n",
    "    \n",
    "class Manhwa(Komik):\n",
    "    def asal(self):\n",
    "        print(\"Buatan Korea\")\n",
    "        \n",
    "class Manga(Komik):\n",
    "    def asal(self):\n",
    "        print(\"Buatan Jepang\")"
   ]
  },
  {
   "cell_type": "code",
   "execution_count": 19,
   "id": "a1b5c43a",
   "metadata": {},
   "outputs": [
    {
     "name": "stdout",
     "output_type": "stream",
     "text": [
      "Buatan Korea\n",
      "Buatan Jepang\n"
     ]
    }
   ],
   "source": [
    "komik1= Manhwa()\n",
    "komik2= Manga()\n",
    "\n",
    "komik1.asal()\n",
    "komik2.asal()"
   ]
  },
  {
   "cell_type": "markdown",
   "id": "799d0d37",
   "metadata": {},
   "source": [
    "### Polymorphism"
   ]
  },
  {
   "cell_type": "code",
   "execution_count": 32,
   "id": "ec1dddf5",
   "metadata": {},
   "outputs": [
    {
     "name": "stdout",
     "output_type": "stream",
     "text": [
      "judul: Lookism, author: Park Taejoon, genre: Drama, viewers: 5 Juta\n",
      "judul: Lookism, author: Park Taejoon, genre: Drama, viewers: 5 Juta, studio:Webtoon, kota: Seoul\n",
      "Komik ini berasal dari Korea\n"
     ]
    }
   ],
   "source": [
    "class Komik(object):\n",
    "  def __init__(self, judul, author, genre, viewers):\n",
    "    self.judul = judul\n",
    "    self.author = author\n",
    "    self.genre = genre\n",
    "    self.viewers = viewers\n",
    "\n",
    "  def bacaan(self, durasi):\n",
    "    for x in range(durasi):\n",
    "      print(\"Ayo baca komik!\")\n",
    "\n",
    "  def info(self):\n",
    "    print(f\"judul: {self.judul}, author: {self.author}, genre: {self.genre}, viewers: {self.viewers}\")\n",
    "\n",
    "\n",
    "class Manhwa(Komik):\n",
    "  def __init__(self, judul, author, genre, viewers, studio, kota):\n",
    "    super().__init__(judul, author, genre, viewers)\n",
    "    self.studio = studio\n",
    "    self.kota = kota\n",
    "  \n",
    "  def asal(self):\n",
    "    print(\"Komik ini berasal dari Korea\")\n",
    "          \n",
    "  def info_manhwa(self):\n",
    "    print(f\"judul: {self.judul}, author: {self.author}, genre: {self.genre}, viewers: {self.viewers}, studio:{self.studio}, kota: {self.kota}\")\n",
    "\n",
    "class Manga(Komik):\n",
    "  def __init__(self, judul, author, genre, viewers, berwarna):\n",
    "    super().__init__(judul, author, genre, viewers)\n",
    "    self.berwarna = berwarna\n",
    "  \n",
    "  def volume(self, jumlah):\n",
    "    if jumlah >=2 :\n",
    "      print(\"manga sangat populer\")\n",
    "    else:\n",
    "      print(\"tidak populer\")\n",
    "    \n",
    "\n",
    "komik1 = Manhwa(\"Lookism\", \"Park Taejoon\", \"Drama\", \"5 Juta\", \"Webtoon\", \"Seoul\",)\n",
    "\n",
    "komik1.info()\n",
    "komik1.info_manhwa()\n",
    "komik1.asal()"
   ]
  },
  {
   "cell_type": "markdown",
   "id": "54adca11",
   "metadata": {},
   "source": [
    "### Custom Modules"
   ]
  },
  {
   "cell_type": "code",
   "execution_count": 33,
   "id": "f850f03b",
   "metadata": {},
   "outputs": [],
   "source": [
    "import file_komik as fk"
   ]
  },
  {
   "cell_type": "code",
   "execution_count": 34,
   "id": "ea206534",
   "metadata": {
    "collapsed": true
   },
   "outputs": [],
   "source": [
    "komik2=Manga(\"One Piece\", \"Eichiro Oda\", \"Adventure\",\"12 juta\", \"hitam putih\")"
   ]
  },
  {
   "cell_type": "code",
   "execution_count": 35,
   "id": "7ab0c586",
   "metadata": {},
   "outputs": [
    {
     "name": "stdout",
     "output_type": "stream",
     "text": [
      "manga sangat populer\n"
     ]
    }
   ],
   "source": [
    "komik2.volume(8)"
   ]
  },
  {
   "cell_type": "code",
   "execution_count": null,
   "id": "d186ed3c",
   "metadata": {},
   "outputs": [],
   "source": []
  }
 ],
 "metadata": {
  "kernelspec": {
   "display_name": "Python 3 (ipykernel)",
   "language": "python",
   "name": "python3"
  },
  "language_info": {
   "codemirror_mode": {
    "name": "ipython",
    "version": 3
   },
   "file_extension": ".py",
   "mimetype": "text/x-python",
   "name": "python",
   "nbconvert_exporter": "python",
   "pygments_lexer": "ipython3",
   "version": "3.9.7"
  }
 },
 "nbformat": 4,
 "nbformat_minor": 5
}
